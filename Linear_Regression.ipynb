{
  "nbformat": 4,
  "nbformat_minor": 0,
  "metadata": {
    "colab": {
      "name": "Linear Regression.ipynb",
      "provenance": []
    },
    "kernelspec": {
      "name": "python3",
      "display_name": "Python 3"
    },
    "language_info": {
      "name": "python"
    }
  },
  "cells": [
    {
      "cell_type": "code",
      "execution_count": null,
      "metadata": {
        "colab": {
          "base_uri": "https://localhost:8080/"
        },
        "id": "GboDgDT1rdei",
        "outputId": "4ea93e47-2ea3-4e9b-c263-e4483a87ade9"
      },
      "outputs": [
        {
          "output_type": "execute_result",
          "data": {
            "text/plain": [
              "((500, 1), (500,))"
            ]
          },
          "metadata": {},
          "execution_count": 2
        }
      ],
      "source": [
        "from sklearn.datasets import make_regression\n",
        "x,y,z =make_regression(n_samples=500,n_features=1,coef=True,bias=100, noise=10, random_state=2529)\n",
        "x,y =make_regression(n_samples=500,n_features=1,coef=False,bias=100,noise=10,random_state=2529)\n",
        "x.shape,y.shape"
      ]
    },
    {
      "cell_type": "code",
      "source": [
        "x[0:5]"
      ],
      "metadata": {
        "colab": {
          "base_uri": "https://localhost:8080/"
        },
        "id": "K8sDYwFRtRrO",
        "outputId": "6d34c7a9-996d-4388-abfb-e1062cbefb4b"
      },
      "execution_count": null,
      "outputs": [
        {
          "output_type": "execute_result",
          "data": {
            "text/plain": [
              "array([[-0.14515963],\n",
              "       [-0.42211027],\n",
              "       [ 0.16369826],\n",
              "       [ 0.99914136],\n",
              "       [ 0.06279171]])"
            ]
          },
          "metadata": {},
          "execution_count": 5
        }
      ]
    },
    {
      "cell_type": "code",
      "source": [
        "y[0:5]"
      ],
      "metadata": {
        "colab": {
          "base_uri": "https://localhost:8080/"
        },
        "id": "sIeFJOR-tjXZ",
        "outputId": "6333d15d-e6de-4ee4-83f2-8271b93e4638"
      },
      "execution_count": null,
      "outputs": [
        {
          "output_type": "execute_result",
          "data": {
            "text/plain": [
              "array([ 98.24361464,  77.16727659,  91.22749064, 117.13972839,\n",
              "       101.13829002])"
            ]
          },
          "metadata": {},
          "execution_count": 6
        }
      ]
    },
    {
      "cell_type": "code",
      "source": [
        "x.shape , y.shape"
      ],
      "metadata": {
        "colab": {
          "base_uri": "https://localhost:8080/"
        },
        "id": "T7QTXqJlto7A",
        "outputId": "973ccde9-bad1-45f1-a776-ca65aff78e2a"
      },
      "execution_count": null,
      "outputs": [
        {
          "output_type": "execute_result",
          "data": {
            "text/plain": [
              "((500, 1), (500,))"
            ]
          },
          "metadata": {},
          "execution_count": 7
        }
      ]
    },
    {
      "cell_type": "code",
      "source": [
        "from sklearn.model_selection import train_test_split"
      ],
      "metadata": {
        "id": "GFJwGb5ntss6"
      },
      "execution_count": null,
      "outputs": []
    },
    {
      "cell_type": "code",
      "source": [
        "x_train,x_test,y_train,y_test=train_test_split(x,y,test_size=0.3,random_state=2529)"
      ],
      "metadata": {
        "id": "Ybang_SAt3By"
      },
      "execution_count": null,
      "outputs": []
    },
    {
      "cell_type": "code",
      "source": [
        "x_train.shape,x_test.shape,y_train.shape,y_test.shape"
      ],
      "metadata": {
        "colab": {
          "base_uri": "https://localhost:8080/"
        },
        "id": "Cz4t-2zcuMCh",
        "outputId": "8c8f9038-49d1-4cf7-f91a-cfa880c804c0"
      },
      "execution_count": null,
      "outputs": [
        {
          "output_type": "execute_result",
          "data": {
            "text/plain": [
              "((350, 1), (150, 1), (350,), (150,))"
            ]
          },
          "metadata": {},
          "execution_count": 17
        }
      ]
    },
    {
      "cell_type": "code",
      "source": [
        "from sklearn.linear_model import LinearRegression"
      ],
      "metadata": {
        "id": "QHL8iYPCusI8"
      },
      "execution_count": null,
      "outputs": []
    },
    {
      "cell_type": "code",
      "source": [
        "model=LinearRegression()\n",
        "model.fit(x_train,y_train)"
      ],
      "metadata": {
        "colab": {
          "base_uri": "https://localhost:8080/"
        },
        "id": "egsd-t8Xw_KN",
        "outputId": "1753e17f-5122-489f-aadb-188d05081da2"
      },
      "execution_count": null,
      "outputs": [
        {
          "output_type": "execute_result",
          "data": {
            "text/plain": [
              "LinearRegression()"
            ]
          },
          "metadata": {},
          "execution_count": 19
        }
      ]
    },
    {
      "cell_type": "code",
      "source": [
        "model.intercept_"
      ],
      "metadata": {
        "colab": {
          "base_uri": "https://localhost:8080/"
        },
        "id": "eL2tI0IexQ4C",
        "outputId": "3bf33ec5-3304-449a-acdb-40fe69f6b9ef"
      },
      "execution_count": null,
      "outputs": [
        {
          "output_type": "execute_result",
          "data": {
            "text/plain": [
              "99.35690246682498"
            ]
          },
          "metadata": {},
          "execution_count": 20
        }
      ]
    },
    {
      "cell_type": "code",
      "source": [
        "model.coef_"
      ],
      "metadata": {
        "colab": {
          "base_uri": "https://localhost:8080/"
        },
        "id": "5XXmc1CoxT2F",
        "outputId": "78727aa9-b3f5-4e56-ee90-67a9242c5898"
      },
      "execution_count": null,
      "outputs": [
        {
          "output_type": "execute_result",
          "data": {
            "text/plain": [
              "array([18.55583126])"
            ]
          },
          "metadata": {},
          "execution_count": 21
        }
      ]
    },
    {
      "cell_type": "code",
      "source": [
        "y_pred=model.predict(x_test)"
      ],
      "metadata": {
        "id": "VRNzvGyaxX5e"
      },
      "execution_count": null,
      "outputs": []
    },
    {
      "cell_type": "code",
      "source": [
        "y_pred.shape"
      ],
      "metadata": {
        "colab": {
          "base_uri": "https://localhost:8080/"
        },
        "id": "u17IeZucxdsW",
        "outputId": "fb99cde5-d392-4f4c-8bde-b446cc24f740"
      },
      "execution_count": null,
      "outputs": [
        {
          "output_type": "execute_result",
          "data": {
            "text/plain": [
              "(150,)"
            ]
          },
          "metadata": {},
          "execution_count": 23
        }
      ]
    },
    {
      "cell_type": "code",
      "source": [
        "y_pred"
      ],
      "metadata": {
        "colab": {
          "base_uri": "https://localhost:8080/"
        },
        "id": "DNhPBxY1xgzc",
        "outputId": "75226a51-912e-4313-b574-bd0379103e59"
      },
      "execution_count": null,
      "outputs": [
        {
          "output_type": "execute_result",
          "data": {
            "text/plain": [
              "array([ 89.26204696, 101.84949513,  69.77756517, 122.1555392 ,\n",
              "        81.36375695, 115.74471855,  94.14301733,  94.44326724,\n",
              "       112.81804118,  98.82577559, 128.16464245, 101.70625811,\n",
              "        87.79380193, 131.34589677, 107.01678914,  78.29819659,\n",
              "       101.93180262, 124.93681363, 128.51646964, 124.50236815,\n",
              "        87.86834878,  73.44953632, 124.06252248,  75.19821476,\n",
              "        97.90142286, 115.74377412,  88.74119425, 116.19910245,\n",
              "        91.79320215,  88.01739478,  99.46766209, 105.96302966,\n",
              "       118.42807833,  86.56987302,  99.10182989,  83.56215042,\n",
              "       110.06767577,  92.94304341,  59.22053019, 113.7576563 ,\n",
              "       104.19856223,  86.92176837,  87.08117739,  88.12256534,\n",
              "        90.96060203, 112.39302951,  92.16327765, 139.2926828 ,\n",
              "       116.47171972,  71.37047479, 123.15097171, 115.9448592 ,\n",
              "       108.05113255,  89.93694882,  96.04012184,  95.94655499,\n",
              "       102.67999993,  85.29441666, 115.69883349, 103.88572974,\n",
              "       126.98310606,  93.48802689, 100.40306516,  88.43856022,\n",
              "        64.85623169, 107.28806328, 108.1639172 ,  61.03194509,\n",
              "        89.69116493,  84.17971466,  86.72799972, 113.41002011,\n",
              "       121.34316979, 100.23080641, 112.52821957,  65.86170947,\n",
              "       103.51560919, 120.9819443 , 100.65537882,  72.55413821,\n",
              "        71.89654753, 131.96819701,  99.49431881,  90.79342678,\n",
              "        97.66170293, 109.56371631,  86.30642926, 101.17441914,\n",
              "        96.71021721, 116.53184019,  80.39778168, 116.88500579,\n",
              "        53.40372487, 112.16266961,  92.12044449, 102.39445981,\n",
              "        96.66334489, 106.1344928 , 108.62003912, 100.18544284,\n",
              "        95.8812736 ,  98.04712545, 124.6721711 ,  69.49153939,\n",
              "        95.01614737,  89.05376152,  84.53593166,  94.53452938,\n",
              "       156.43291811, 103.12567179, 104.6924765 , 112.34197679,\n",
              "        99.34156958, 117.16897103,  73.27396036,  84.57285244,\n",
              "        65.15246849, 114.32486787,  80.4424299 ,  67.15028717,\n",
              "        47.9708302 ,  95.54874121,  66.93810997, 100.85012482,\n",
              "        94.8164265 , 109.4514235 ,  88.30759084,  79.63090475,\n",
              "        79.4692953 ,  95.79582327, 122.46607795, 108.72355229,\n",
              "        51.81846124,  88.9651122 , 101.84316058,  84.80361394,\n",
              "       119.98511928, 105.59319017,  75.65378322,  97.49828077,\n",
              "       113.45635221, 112.97595228, 119.3876197 ,  82.72330885,\n",
              "       108.50494897, 102.85812714,  99.97330829,  82.90675006,\n",
              "       127.21032624,  84.96113401])"
            ]
          },
          "metadata": {},
          "execution_count": 24
        }
      ]
    },
    {
      "cell_type": "markdown",
      "source": [
        "  GET MODEL EVALUTION"
      ],
      "metadata": {
        "id": "rpqOQhGKxrp2"
      }
    },
    {
      "cell_type": "code",
      "source": [
        "from sklearn.metrics import mean_squared_error , mean_absolute_error,mean_absolute_percentage_error,r2_score\n"
      ],
      "metadata": {
        "id": "1Q-zwJ07xkMK"
      },
      "execution_count": null,
      "outputs": []
    },
    {
      "cell_type": "code",
      "source": [
        "mean_squared_error(y_test,y_pred)"
      ],
      "metadata": {
        "colab": {
          "base_uri": "https://localhost:8080/"
        },
        "id": "b5Ak_yUmx9hy",
        "outputId": "a6ea8d71-f5f2-4aa1-e517-fdebb8838ca9"
      },
      "execution_count": null,
      "outputs": [
        {
          "output_type": "execute_result",
          "data": {
            "text/plain": [
              "88.01318552381485"
            ]
          },
          "metadata": {},
          "execution_count": 26
        }
      ]
    },
    {
      "cell_type": "code",
      "source": [
        "mean_absolute_error(y_test,y_pred)"
      ],
      "metadata": {
        "colab": {
          "base_uri": "https://localhost:8080/"
        },
        "id": "LlVvC18XyEqC",
        "outputId": "18fc7c66-1e11-4c74-b517-943345b4b6dc"
      },
      "execution_count": null,
      "outputs": [
        {
          "output_type": "execute_result",
          "data": {
            "text/plain": [
              "7.30321961345614"
            ]
          },
          "metadata": {},
          "execution_count": 27
        }
      ]
    },
    {
      "cell_type": "code",
      "source": [
        "mean_absolute_percentage_error(y_test,y_pred)"
      ],
      "metadata": {
        "colab": {
          "base_uri": "https://localhost:8080/"
        },
        "id": "I-xTmA2SyKdp",
        "outputId": "e9b88a3b-dd3f-42da-f2d8-80ca2928dca3"
      },
      "execution_count": null,
      "outputs": [
        {
          "output_type": "execute_result",
          "data": {
            "text/plain": [
              "0.07501015199685682"
            ]
          },
          "metadata": {},
          "execution_count": 28
        }
      ]
    },
    {
      "cell_type": "code",
      "source": [
        "r2_score(y_test,y_pred)"
      ],
      "metadata": {
        "colab": {
          "base_uri": "https://localhost:8080/"
        },
        "id": "s_M2Igg1yQb5",
        "outputId": "983ed823-b74c-4f91-c5ce-623652209f6d"
      },
      "execution_count": null,
      "outputs": [
        {
          "output_type": "execute_result",
          "data": {
            "text/plain": [
              "0.7815959593314558"
            ]
          },
          "metadata": {},
          "execution_count": 29
        }
      ]
    }
  ]
}